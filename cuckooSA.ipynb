{
  "nbformat": 4,
  "nbformat_minor": 0,
  "metadata": {
    "colab": {
      "provenance": [],
      "authorship_tag": "ABX9TyPvhjGkZDuICbLm9MiAvP2O",
      "include_colab_link": true
    },
    "kernelspec": {
      "name": "python3",
      "display_name": "Python 3"
    },
    "language_info": {
      "name": "python"
    }
  },
  "cells": [
    {
      "cell_type": "markdown",
      "metadata": {
        "id": "view-in-github",
        "colab_type": "text"
      },
      "source": [
        "<a href=\"https://colab.research.google.com/github/vikaspr042/BIS/blob/main/cuckooSA.ipynb\" target=\"_parent\"><img src=\"https://colab.research.google.com/assets/colab-badge.svg\" alt=\"Open In Colab\"/></a>"
      ]
    },
    {
      "cell_type": "code",
      "execution_count": 2,
      "metadata": {
        "colab": {
          "base_uri": "https://localhost:8080/"
        },
        "id": "Y7LBx-Ay7cz9",
        "outputId": "662986b1-63dc-4671-a439-c112b635e4c0"
      },
      "outputs": [
        {
          "output_type": "stream",
          "name": "stdout",
          "text": [
            "Enter number of cities: 5\n",
            "Enter distance matrix:\n",
            "1 0 0 0 0\n",
            "0 1 0 0 0\n",
            "0 0 1 0 0 \n",
            "0 0 0 1 0\n",
            "0 0 0 0 1\n",
            "Best Route: [0, 3, 2, 4, 1]\n",
            "Shortest Distance: 0\n"
          ]
        }
      ],
      "source": [
        "import numpy as np\n",
        "import random\n",
        "\n",
        "def total_distance(route, distance_matrix):\n",
        "    dist = 0\n",
        "    for i in range(len(route)):\n",
        "        dist += distance_matrix[route[i-1]][route[i]]\n",
        "    return dist\n",
        "\n",
        "def random_swap(route):\n",
        "    new_route = route.copy()\n",
        "    i, j = np.random.choice(len(route), 2, replace=False)\n",
        "    new_route[i], new_route[j] = new_route[j], new_route[i]\n",
        "    return new_route\n",
        "\n",
        "def cuckoo_search_tsp(distance_matrix, n_nests=15, pa=0.25, max_iter=300):\n",
        "    n_cities = len(distance_matrix)\n",
        "    nests = [random.sample(range(n_cities), n_cities) for _ in range(n_nests)]\n",
        "    fitness = [total_distance(route, distance_matrix) for route in nests]\n",
        "    best_idx = np.argmin(fitness)\n",
        "    best_route = nests[best_idx]\n",
        "    best_fitness = fitness[best_idx]\n",
        "    for t in range(max_iter):\n",
        "        for i in range(n_nests):\n",
        "            new_route = random_swap(nests[i])\n",
        "            new_fitness = total_distance(new_route, distance_matrix)\n",
        "            if new_fitness < fitness[i]:\n",
        "                nests[i] = new_route\n",
        "                fitness[i] = new_fitness\n",
        "        n_abandon = int(pa * n_nests)\n",
        "        worst_idx = np.argsort(fitness)[-n_abandon:]\n",
        "        for i in worst_idx:\n",
        "            nests[i] = random.sample(range(n_cities), n_cities)\n",
        "            fitness[i] = total_distance(nests[i], distance_matrix)\n",
        "        current_best_idx = np.argmin(fitness)\n",
        "        if fitness[current_best_idx] < best_fitness:\n",
        "            best_route = nests[current_best_idx]\n",
        "            best_fitness = fitness[current_best_idx]\n",
        "    return best_route, best_fitness\n",
        "\n",
        "n = int(input(\"Enter number of cities: \"))\n",
        "print(\"Enter distance matrix:\")\n",
        "distance_matrix = []\n",
        "for i in range(n):\n",
        "    row = list(map(int, input().split()))\n",
        "    distance_matrix.append(row)\n",
        "distance_matrix = np.array(distance_matrix)\n",
        "route, dist = cuckoo_search_tsp(distance_matrix)\n",
        "print(\"Best Route:\", route)\n",
        "print(\"Shortest Distance:\", dist)\n",
        "\n",
        "\n",
        "\n"
      ]
    }
  ]
}